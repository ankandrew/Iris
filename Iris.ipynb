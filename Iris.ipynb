{
  "nbformat": 4,
  "nbformat_minor": 0,
  "metadata": {
    "colab": {
      "name": "Iris.ipynb",
      "provenance": [],
      "collapsed_sections": [],
      "toc_visible": true
    },
    "kernelspec": {
      "name": "python3",
      "display_name": "Python 3"
    },
    "language_info": {
      "name": "python"
    },
    "accelerator": "GPU"
  },
  "cells": [
    {
      "cell_type": "code",
      "metadata": {
        "id": "5t2UMR2DBKGC"
      },
      "source": [
        "import seaborn as sns\n",
        "import matplotlib.pyplot as plt\n",
        "import numpy as np\n",
        "import pandas as pd\n",
        "import random\n",
        "\n",
        "from sklearn.neighbors import KNeighborsClassifier\n",
        "from sklearn.preprocessing import MinMaxScaler, LabelEncoder\n",
        "from sklearn.model_selection import train_test_split\n",
        "from sklearn.metrics import accuracy_score, confusion_matrix\n",
        "\n",
        "import torch\n",
        "import torch.nn as nn\n",
        "from torch.utils.data import TensorDataset, DataLoader\n",
        "\n",
        "from typing import List, Union"
      ],
      "execution_count": 1,
      "outputs": []
    },
    {
      "cell_type": "code",
      "metadata": {
        "id": "AFqTKpMzFGvU"
      },
      "source": [
        "sns.set(rc={'figure.figsize':(11, 7)})"
      ],
      "execution_count": 2,
      "outputs": []
    },
    {
      "cell_type": "code",
      "metadata": {
        "id": "Kdwtria1OO7U"
      },
      "source": [
        "# Seteamos la misma seed para torch, numpy, etc\n",
        "# para tratar de reproducir los mismos resultados\n",
        "seed = 1234\n",
        "\n",
        "torch.manual_seed(seed)\n",
        "torch.cuda.manual_seed_all(seed)\n",
        "torch.cuda.manual_seed(seed)\n",
        "np.random.seed(seed)\n",
        "random.seed(seed)\n",
        "torch.backends.cudnn.deterministic = True\n",
        "torch.backends.cudnn.benchmark = False"
      ],
      "execution_count": 3,
      "outputs": []
    },
    {
      "cell_type": "code",
      "metadata": {
        "colab": {
          "base_uri": "https://localhost:8080/"
        },
        "id": "tA9re2wv_aPt",
        "outputId": "cf8156a1-9399-4bea-e682-e1f1174a39af"
      },
      "source": [
        "# Descargo el dataset del repositorio\n",
        "!wget https://raw.githubusercontent.com/ankandrew/Iris/master/iris.csv"
      ],
      "execution_count": 4,
      "outputs": [
        {
          "output_type": "stream",
          "text": [
            "--2021-04-05 03:05:32--  https://raw.githubusercontent.com/ankandrew/Iris/master/iris.csv\n",
            "Resolving raw.githubusercontent.com (raw.githubusercontent.com)... 185.199.108.133, 185.199.109.133, 185.199.110.133, ...\n",
            "Connecting to raw.githubusercontent.com (raw.githubusercontent.com)|185.199.108.133|:443... connected.\n",
            "HTTP request sent, awaiting response... 200 OK\n",
            "Length: 3975 (3.9K) [text/plain]\n",
            "Saving to: ‘iris.csv’\n",
            "\n",
            "\riris.csv              0%[                    ]       0  --.-KB/s               \riris.csv            100%[===================>]   3.88K  --.-KB/s    in 0s      \n",
            "\n",
            "2021-04-05 03:05:32 (71.1 MB/s) - ‘iris.csv’ saved [3975/3975]\n",
            "\n"
          ],
          "name": "stdout"
        }
      ]
    },
    {
      "cell_type": "code",
      "metadata": {
        "id": "cTCC4nO0IS93"
      },
      "source": [
        "# Cargamos el dataset en un DataFrame\n",
        "df = pd.read_csv('./iris.csv', delimiter=',')"
      ],
      "execution_count": 5,
      "outputs": []
    },
    {
      "cell_type": "markdown",
      "metadata": {
        "id": "lPhmBxz9oNqB"
      },
      "source": [
        "## Inspeccionando la Data"
      ]
    },
    {
      "cell_type": "code",
      "metadata": {
        "colab": {
          "base_uri": "https://localhost:8080/",
          "height": 204
        },
        "id": "Bd41xm2LiPxH",
        "outputId": "67c2367f-6587-4b0c-9b30-c88e4f90447f"
      },
      "source": [
        "# Inspeccionamos una muestra aleatoria\n",
        "df.sample(n=5)"
      ],
      "execution_count": 6,
      "outputs": [
        {
          "output_type": "execute_result",
          "data": {
            "text/html": [
              "<div>\n",
              "<style scoped>\n",
              "    .dataframe tbody tr th:only-of-type {\n",
              "        vertical-align: middle;\n",
              "    }\n",
              "\n",
              "    .dataframe tbody tr th {\n",
              "        vertical-align: top;\n",
              "    }\n",
              "\n",
              "    .dataframe thead th {\n",
              "        text-align: right;\n",
              "    }\n",
              "</style>\n",
              "<table border=\"1\" class=\"dataframe\">\n",
              "  <thead>\n",
              "    <tr style=\"text-align: right;\">\n",
              "      <th></th>\n",
              "      <th>sepal.length</th>\n",
              "      <th>sepal.width</th>\n",
              "      <th>petal.length</th>\n",
              "      <th>petal.width</th>\n",
              "      <th>variety</th>\n",
              "    </tr>\n",
              "  </thead>\n",
              "  <tbody>\n",
              "    <tr>\n",
              "      <th>91</th>\n",
              "      <td>6.1</td>\n",
              "      <td>3.0</td>\n",
              "      <td>4.6</td>\n",
              "      <td>1.4</td>\n",
              "      <td>Versicolor</td>\n",
              "    </tr>\n",
              "    <tr>\n",
              "      <th>63</th>\n",
              "      <td>6.1</td>\n",
              "      <td>2.9</td>\n",
              "      <td>4.7</td>\n",
              "      <td>1.4</td>\n",
              "      <td>Versicolor</td>\n",
              "    </tr>\n",
              "    <tr>\n",
              "      <th>103</th>\n",
              "      <td>6.3</td>\n",
              "      <td>2.9</td>\n",
              "      <td>5.6</td>\n",
              "      <td>1.8</td>\n",
              "      <td>Virginica</td>\n",
              "    </tr>\n",
              "    <tr>\n",
              "      <th>6</th>\n",
              "      <td>4.6</td>\n",
              "      <td>3.4</td>\n",
              "      <td>1.4</td>\n",
              "      <td>0.3</td>\n",
              "      <td>Setosa</td>\n",
              "    </tr>\n",
              "    <tr>\n",
              "      <th>59</th>\n",
              "      <td>5.2</td>\n",
              "      <td>2.7</td>\n",
              "      <td>3.9</td>\n",
              "      <td>1.4</td>\n",
              "      <td>Versicolor</td>\n",
              "    </tr>\n",
              "  </tbody>\n",
              "</table>\n",
              "</div>"
            ],
            "text/plain": [
              "     sepal.length  sepal.width  petal.length  petal.width     variety\n",
              "91            6.1          3.0           4.6          1.4  Versicolor\n",
              "63            6.1          2.9           4.7          1.4  Versicolor\n",
              "103           6.3          2.9           5.6          1.8   Virginica\n",
              "6             4.6          3.4           1.4          0.3      Setosa\n",
              "59            5.2          2.7           3.9          1.4  Versicolor"
            ]
          },
          "metadata": {
            "tags": []
          },
          "execution_count": 6
        }
      ]
    },
    {
      "cell_type": "code",
      "metadata": {
        "colab": {
          "base_uri": "https://localhost:8080/"
        },
        "id": "882j-tPyuhF2",
        "outputId": "00fe459e-e0d9-4d75-bf4b-9a69a64c08f3"
      },
      "source": [
        "# Revisamos el tipo de dato de X e y\n",
        "# También verificamos que no haya nulls\n",
        "df.info()"
      ],
      "execution_count": 7,
      "outputs": [
        {
          "output_type": "stream",
          "text": [
            "<class 'pandas.core.frame.DataFrame'>\n",
            "RangeIndex: 150 entries, 0 to 149\n",
            "Data columns (total 5 columns):\n",
            " #   Column        Non-Null Count  Dtype  \n",
            "---  ------        --------------  -----  \n",
            " 0   sepal.length  150 non-null    float64\n",
            " 1   sepal.width   150 non-null    float64\n",
            " 2   petal.length  150 non-null    float64\n",
            " 3   petal.width   150 non-null    float64\n",
            " 4   variety       150 non-null    object \n",
            "dtypes: float64(4), object(1)\n",
            "memory usage: 6.0+ KB\n"
          ],
          "name": "stdout"
        }
      ]
    },
    {
      "cell_type": "code",
      "metadata": {
        "colab": {
          "base_uri": "https://localhost:8080/",
          "height": 297
        },
        "id": "fIa6-mYCITCp",
        "outputId": "bf926446-daa0-4cfd-8edd-1e26767d1042"
      },
      "source": [
        "# Analizamos las estadísticas de las X/inputs/features\n",
        "df.iloc[:, :-1].describe()"
      ],
      "execution_count": 8,
      "outputs": [
        {
          "output_type": "execute_result",
          "data": {
            "text/html": [
              "<div>\n",
              "<style scoped>\n",
              "    .dataframe tbody tr th:only-of-type {\n",
              "        vertical-align: middle;\n",
              "    }\n",
              "\n",
              "    .dataframe tbody tr th {\n",
              "        vertical-align: top;\n",
              "    }\n",
              "\n",
              "    .dataframe thead th {\n",
              "        text-align: right;\n",
              "    }\n",
              "</style>\n",
              "<table border=\"1\" class=\"dataframe\">\n",
              "  <thead>\n",
              "    <tr style=\"text-align: right;\">\n",
              "      <th></th>\n",
              "      <th>sepal.length</th>\n",
              "      <th>sepal.width</th>\n",
              "      <th>petal.length</th>\n",
              "      <th>petal.width</th>\n",
              "    </tr>\n",
              "  </thead>\n",
              "  <tbody>\n",
              "    <tr>\n",
              "      <th>count</th>\n",
              "      <td>150.000000</td>\n",
              "      <td>150.000000</td>\n",
              "      <td>150.000000</td>\n",
              "      <td>150.000000</td>\n",
              "    </tr>\n",
              "    <tr>\n",
              "      <th>mean</th>\n",
              "      <td>5.843333</td>\n",
              "      <td>3.057333</td>\n",
              "      <td>3.758000</td>\n",
              "      <td>1.199333</td>\n",
              "    </tr>\n",
              "    <tr>\n",
              "      <th>std</th>\n",
              "      <td>0.828066</td>\n",
              "      <td>0.435866</td>\n",
              "      <td>1.765298</td>\n",
              "      <td>0.762238</td>\n",
              "    </tr>\n",
              "    <tr>\n",
              "      <th>min</th>\n",
              "      <td>4.300000</td>\n",
              "      <td>2.000000</td>\n",
              "      <td>1.000000</td>\n",
              "      <td>0.100000</td>\n",
              "    </tr>\n",
              "    <tr>\n",
              "      <th>25%</th>\n",
              "      <td>5.100000</td>\n",
              "      <td>2.800000</td>\n",
              "      <td>1.600000</td>\n",
              "      <td>0.300000</td>\n",
              "    </tr>\n",
              "    <tr>\n",
              "      <th>50%</th>\n",
              "      <td>5.800000</td>\n",
              "      <td>3.000000</td>\n",
              "      <td>4.350000</td>\n",
              "      <td>1.300000</td>\n",
              "    </tr>\n",
              "    <tr>\n",
              "      <th>75%</th>\n",
              "      <td>6.400000</td>\n",
              "      <td>3.300000</td>\n",
              "      <td>5.100000</td>\n",
              "      <td>1.800000</td>\n",
              "    </tr>\n",
              "    <tr>\n",
              "      <th>max</th>\n",
              "      <td>7.900000</td>\n",
              "      <td>4.400000</td>\n",
              "      <td>6.900000</td>\n",
              "      <td>2.500000</td>\n",
              "    </tr>\n",
              "  </tbody>\n",
              "</table>\n",
              "</div>"
            ],
            "text/plain": [
              "       sepal.length  sepal.width  petal.length  petal.width\n",
              "count    150.000000   150.000000    150.000000   150.000000\n",
              "mean       5.843333     3.057333      3.758000     1.199333\n",
              "std        0.828066     0.435866      1.765298     0.762238\n",
              "min        4.300000     2.000000      1.000000     0.100000\n",
              "25%        5.100000     2.800000      1.600000     0.300000\n",
              "50%        5.800000     3.000000      4.350000     1.300000\n",
              "75%        6.400000     3.300000      5.100000     1.800000\n",
              "max        7.900000     4.400000      6.900000     2.500000"
            ]
          },
          "metadata": {
            "tags": []
          },
          "execution_count": 8
        }
      ]
    },
    {
      "cell_type": "code",
      "metadata": {
        "colab": {
          "base_uri": "https://localhost:8080/",
          "height": 382
        },
        "id": "kOTFv4WgJuVh",
        "outputId": "c0d60032-9f91-48a5-8734-639cad8c57dc"
      },
      "source": [
        "# Exploramos la distribución de las distintas features\n",
        "sns.displot(df, kind=\"kde\")"
      ],
      "execution_count": 9,
      "outputs": [
        {
          "output_type": "execute_result",
          "data": {
            "text/plain": [
              "<seaborn.axisgrid.FacetGrid at 0x7fc3e8ff99d0>"
            ]
          },
          "metadata": {
            "tags": []
          },
          "execution_count": 9
        },
        {
          "output_type": "display_data",
          "data": {
            "image/png": "[encoded data removed]",
            "text/plain": [
              "<Figure size 467.85x360 with 1 Axes>"
            ]
          },
          "metadata": {
            "tags": []
          }
        }
      ]
    },
    {
      "cell_type": "code",
      "metadata": {
        "id": "n0a-d0oEKDH3",
        "colab": {
          "base_uri": "https://localhost:8080/"
        },
        "outputId": "5767fe47-ed30-44ab-f229-323c655815fe"
      },
      "source": [
        "# Verificamos la cantidad de cada clase para ver si hay algún imbalance\n",
        "n_classes = df['variety'].value_counts()\n",
        "n_classes"
      ],
      "execution_count": 10,
      "outputs": [
        {
          "output_type": "execute_result",
          "data": {
            "text/plain": [
              "Setosa        50\n",
              "Virginica     50\n",
              "Versicolor    50\n",
              "Name: variety, dtype: int64"
            ]
          },
          "metadata": {
            "tags": []
          },
          "execution_count": 10
        }
      ]
    },
    {
      "cell_type": "code",
      "metadata": {
        "colab": {
          "base_uri": "https://localhost:8080/",
          "height": 448
        },
        "id": "9fitiaErmD_x",
        "outputId": "09f4e81f-f657-4ced-e9be-a14bd5ed5f1f"
      },
      "source": [
        "# Vemos que no haces falta ponderar una clase más que otra\n",
        "sns.barplot(x = n_classes.index, y = n_classes)"
      ],
      "execution_count": 11,
      "outputs": [
        {
          "output_type": "execute_result",
          "data": {
            "text/plain": [
              "<matplotlib.axes._subplots.AxesSubplot at 0x7fc3dfd9d7d0>"
            ]
          },
          "metadata": {
            "tags": []
          },
          "execution_count": 11
        },
        {
          "output_type": "display_data",
          "data": {
            "image/png": "[encoded data removed]",
            "text/plain": [
              "<Figure size 792x504 with 1 Axes>"
            ]
          },
          "metadata": {
            "tags": []
          }
        }
      ]
    },
    {
      "cell_type": "code",
      "metadata": {
        "colab": {
          "base_uri": "https://localhost:8080/",
          "height": 124
        },
        "id": "MnKw_qqD10HI",
        "outputId": "ddc174ce-9063-4bc9-ffe6-b7fa70a23093"
      },
      "source": [
        "# Muestro la correlación de las features\n",
        "# Podemos probar sacar petal.width ya que\n",
        "# está altamente correlacionada con petal.length\n",
        "corr = df.corr()\n",
        "corr.style.background_gradient(cmap='coolwarm')"
      ],
      "execution_count": 12,
      "outputs": [
        {
          "output_type": "execute_result",
          "data": {
            "text/html": [
              "<style  type=\"text/css\" >\n",
              "#T_c9bb9cd6_95bb_11eb_984e_0242ac1c0002row0_col0,#T_c9bb9cd6_95bb_11eb_984e_0242ac1c0002row1_col1,#T_c9bb9cd6_95bb_11eb_984e_0242ac1c0002row2_col2,#T_c9bb9cd6_95bb_11eb_984e_0242ac1c0002row3_col3{\n",
              "            background-color:  #b40426;\n",
              "            color:  #f1f1f1;\n",
              "        }#T_c9bb9cd6_95bb_11eb_984e_0242ac1c0002row0_col1{\n",
              "            background-color:  #81a4fb;\n",
              "            color:  #000000;\n",
              "        }#T_c9bb9cd6_95bb_11eb_984e_0242ac1c0002row0_col2{\n",
              "            background-color:  #d24b40;\n",
              "            color:  #f1f1f1;\n",
              "        }#T_c9bb9cd6_95bb_11eb_984e_0242ac1c0002row0_col3{\n",
              "            background-color:  #e0654f;\n",
              "            color:  #000000;\n",
              "        }#T_c9bb9cd6_95bb_11eb_984e_0242ac1c0002row1_col0,#T_c9bb9cd6_95bb_11eb_984e_0242ac1c0002row1_col2,#T_c9bb9cd6_95bb_11eb_984e_0242ac1c0002row1_col3,#T_c9bb9cd6_95bb_11eb_984e_0242ac1c0002row2_col1{\n",
              "            background-color:  #3b4cc0;\n",
              "            color:  #f1f1f1;\n",
              "        }#T_c9bb9cd6_95bb_11eb_984e_0242ac1c0002row2_col0{\n",
              "            background-color:  #da5a49;\n",
              "            color:  #000000;\n",
              "        }#T_c9bb9cd6_95bb_11eb_984e_0242ac1c0002row2_col3,#T_c9bb9cd6_95bb_11eb_984e_0242ac1c0002row3_col2{\n",
              "            background-color:  #bd1f2d;\n",
              "            color:  #f1f1f1;\n",
              "        }#T_c9bb9cd6_95bb_11eb_984e_0242ac1c0002row3_col0{\n",
              "            background-color:  #e67259;\n",
              "            color:  #000000;\n",
              "        }#T_c9bb9cd6_95bb_11eb_984e_0242ac1c0002row3_col1{\n",
              "            background-color:  #485fd1;\n",
              "            color:  #f1f1f1;\n",
              "        }</style><table id=\"T_c9bb9cd6_95bb_11eb_984e_0242ac1c0002\" ><thead>    <tr>        <th class=\"blank level0\" ></th>        <th class=\"col_heading level0 col0\" >sepal.length</th>        <th class=\"col_heading level0 col1\" >sepal.width</th>        <th class=\"col_heading level0 col2\" >petal.length</th>        <th class=\"col_heading level0 col3\" >petal.width</th>    </tr></thead><tbody>\n",
              "                <tr>\n",
              "                        <th id=\"T_c9bb9cd6_95bb_11eb_984e_0242ac1c0002level0_row0\" class=\"row_heading level0 row0\" >sepal.length</th>\n",
              "                        <td id=\"T_c9bb9cd6_95bb_11eb_984e_0242ac1c0002row0_col0\" class=\"data row0 col0\" >1.000000</td>\n",
              "                        <td id=\"T_c9bb9cd6_95bb_11eb_984e_0242ac1c0002row0_col1\" class=\"data row0 col1\" >-0.117570</td>\n",
              "                        <td id=\"T_c9bb9cd6_95bb_11eb_984e_0242ac1c0002row0_col2\" class=\"data row0 col2\" >0.871754</td>\n",
              "                        <td id=\"T_c9bb9cd6_95bb_11eb_984e_0242ac1c0002row0_col3\" class=\"data row0 col3\" >0.817941</td>\n",
              "            </tr>\n",
              "            <tr>\n",
              "                        <th id=\"T_c9bb9cd6_95bb_11eb_984e_0242ac1c0002level0_row1\" class=\"row_heading level0 row1\" >sepal.width</th>\n",
              "                        <td id=\"T_c9bb9cd6_95bb_11eb_984e_0242ac1c0002row1_col0\" class=\"data row1 col0\" >-0.117570</td>\n",
              "                        <td id=\"T_c9bb9cd6_95bb_11eb_984e_0242ac1c0002row1_col1\" class=\"data row1 col1\" >1.000000</td>\n",
              "                        <td id=\"T_c9bb9cd6_95bb_11eb_984e_0242ac1c0002row1_col2\" class=\"data row1 col2\" >-0.428440</td>\n",
              "                        <td id=\"T_c9bb9cd6_95bb_11eb_984e_0242ac1c0002row1_col3\" class=\"data row1 col3\" >-0.366126</td>\n",
              "            </tr>\n",
              "            <tr>\n",
              "                        <th id=\"T_c9bb9cd6_95bb_11eb_984e_0242ac1c0002level0_row2\" class=\"row_heading level0 row2\" >petal.length</th>\n",
              "                        <td id=\"T_c9bb9cd6_95bb_11eb_984e_0242ac1c0002row2_col0\" class=\"data row2 col0\" >0.871754</td>\n",
              "                        <td id=\"T_c9bb9cd6_95bb_11eb_984e_0242ac1c0002row2_col1\" class=\"data row2 col1\" >-0.428440</td>\n",
              "                        <td id=\"T_c9bb9cd6_95bb_11eb_984e_0242ac1c0002row2_col2\" class=\"data row2 col2\" >1.000000</td>\n",
              "                        <td id=\"T_c9bb9cd6_95bb_11eb_984e_0242ac1c0002row2_col3\" class=\"data row2 col3\" >0.962865</td>\n",
              "            </tr>\n",
              "            <tr>\n",
              "                        <th id=\"T_c9bb9cd6_95bb_11eb_984e_0242ac1c0002level0_row3\" class=\"row_heading level0 row3\" >petal.width</th>\n",
              "                        <td id=\"T_c9bb9cd6_95bb_11eb_984e_0242ac1c0002row3_col0\" class=\"data row3 col0\" >0.817941</td>\n",
              "                        <td id=\"T_c9bb9cd6_95bb_11eb_984e_0242ac1c0002row3_col1\" class=\"data row3 col1\" >-0.366126</td>\n",
              "                        <td id=\"T_c9bb9cd6_95bb_11eb_984e_0242ac1c0002row3_col2\" class=\"data row3 col2\" >0.962865</td>\n",
              "                        <td id=\"T_c9bb9cd6_95bb_11eb_984e_0242ac1c0002row3_col3\" class=\"data row3 col3\" >1.000000</td>\n",
              "            </tr>\n",
              "    </tbody></table>"
            ],
            "text/plain": [
              "<pandas.io.formats.style.Styler at 0x7fc3df8d4450>"
            ]
          },
          "metadata": {
            "tags": []
          },
          "execution_count": 12
        }
      ]
    },
    {
      "cell_type": "markdown",
      "metadata": {
        "id": "aMq2vwBhoYN0"
      },
      "source": [
        "## Preprocesando X e Y"
      ]
    },
    {
      "cell_type": "code",
      "metadata": {
        "id": "8Q5G90wHoXkw"
      },
      "source": [
        "# Es importante normalizar las features/x. Por ejemplo, en el caso de los dos\n",
        "# modelos que vamos a probar:\n",
        "\n",
        "# KNN: La clasificación de una nueva entrada va a depender de los top `k`\n",
        "# vecinos más cercanos. Si la feature `a` tiene una escala mucho más chica que la\n",
        "# de `b`, esta última va atribuir mucho más a la función de distancia que `a`\n",
        "\n",
        "# Neural Nets: Digamos que tenemos la \"\"red\"\" y=w1*x1+w2*x2, Si la feature x1\n",
        "# toma valores entre [0, 100000] y x2 toma valores entre [0, 1], vamos a querer\n",
        "# actualizar w1 mucho mas que w2 por la magnitud de x1. Por ejemplo, si nuestro\n",
        "# vector gradiente es g(w1,w2)=[dL/dw1, dL/dw2] y para nuestro modelo con una\n",
        "# función de coste del error cuadrático obtenemos que g(w1,w2)=[2*x1*s, 2*x2*s]\n",
        "# la actualización de los pesos es proporcional al dato de entrada, por lo que\n",
        "# vamos a actualizar más w1.\n",
        "\n",
        "scaler = MinMaxScaler(feature_range=(0, 1))\n",
        "# Seleccionamos las primeras 4 features, excluyendo el target/label\n",
        "df[df.columns[:-1]] = scaler.fit_transform(df[df.columns[:-1]])"
      ],
      "execution_count": 13,
      "outputs": []
    },
    {
      "cell_type": "code",
      "metadata": {
        "id": "fs9a_-8Qvkg5"
      },
      "source": [
        "# Verificamos el rango\n",
        "assert (df[df.columns[:-1]].max() == 1).all() and (df[df.columns[:-1]].min() == 0).all()"
      ],
      "execution_count": 14,
      "outputs": []
    },
    {
      "cell_type": "code",
      "metadata": {
        "id": "irtRuRxP9hSu"
      },
      "source": [
        "# Convertimos las clases de str -> int, con el rango [0, numero_clases-1]\n",
        "label_enc = LabelEncoder()\n",
        "df['variety'] = label_enc.fit_transform(df['variety'])"
      ],
      "execution_count": 15,
      "outputs": []
    },
    {
      "cell_type": "code",
      "metadata": {
        "colab": {
          "base_uri": "https://localhost:8080/"
        },
        "id": "t9G0xrsM-SEQ",
        "outputId": "2beb9653-b090-462b-ee93-75993c0ac808"
      },
      "source": [
        "# Verificamos\n",
        "df.iloc[:,-1].sample(n=5)"
      ],
      "execution_count": 16,
      "outputs": [
        {
          "output_type": "execute_result",
          "data": {
            "text/plain": [
              "76     1\n",
              "105    2\n",
              "73     1\n",
              "117    2\n",
              "115    2\n",
              "Name: variety, dtype: int64"
            ]
          },
          "metadata": {
            "tags": []
          },
          "execution_count": 16
        }
      ]
    },
    {
      "cell_type": "code",
      "metadata": {
        "id": "tzsXHpxWdex_"
      },
      "source": [
        "# Convierto de double a float, porque los weights/biases\n",
        "# en PyTorch la vamos a usar de tipo float32\n",
        "for col in df.columns[:-1]:\n",
        "    df[col] = df[col].astype('float32')"
      ],
      "execution_count": 17,
      "outputs": []
    },
    {
      "cell_type": "code",
      "metadata": {
        "colab": {
          "base_uri": "https://localhost:8080/"
        },
        "id": "ctcs-2QB-8O7",
        "outputId": "db847c9b-6381-4aa9-ade0-d7dc9db4f832"
      },
      "source": [
        "'''\n",
        "indice -> clase\n",
        "\n",
        "0 -> Setosa\n",
        "1 -> Versicolor\n",
        "2 -> Virginica\n",
        "'''\n",
        "\n",
        "label_enc.classes_"
      ],
      "execution_count": 18,
      "outputs": [
        {
          "output_type": "execute_result",
          "data": {
            "text/plain": [
              "array(['Setosa', 'Versicolor', 'Virginica'], dtype=object)"
            ]
          },
          "metadata": {
            "tags": []
          },
          "execution_count": 18
        }
      ]
    },
    {
      "cell_type": "markdown",
      "metadata": {
        "id": "fUwk6A6_oQRZ"
      },
      "source": [
        "## Train/Test set"
      ]
    },
    {
      "cell_type": "code",
      "metadata": {
        "id": "T99VEQbSn3fI"
      },
      "source": [
        "# Separo el dataset en: 70% train y 30% test\n",
        "x_train, x_test, y_train, y_test = train_test_split(df.iloc[:, :-1], df.iloc[:, -1], test_size=0.3, random_state=1111)"
      ],
      "execution_count": 19,
      "outputs": []
    },
    {
      "cell_type": "code",
      "metadata": {
        "colab": {
          "base_uri": "https://localhost:8080/"
        },
        "id": "WzwZTO1Y2CrQ",
        "outputId": "ae154aa3-ac89-49f0-87bd-8444ab6599bc"
      },
      "source": [
        "print(f'len de train {len(x_train.index)}')\n",
        "print(f'len de test {len(x_test.index)}')"
      ],
      "execution_count": 20,
      "outputs": [
        {
          "output_type": "stream",
          "text": [
            "len de train 105\n",
            "len de test 45\n"
          ],
          "name": "stdout"
        }
      ]
    },
    {
      "cell_type": "code",
      "metadata": {
        "colab": {
          "base_uri": "https://localhost:8080/",
          "height": 448
        },
        "id": "BEz5j5Hn2SHj",
        "outputId": "5094b075-16f8-4c1f-b101-6ecd2194a138"
      },
      "source": [
        "# Es de esperar que que mantenga las distribución de clases por el random uniforme\n",
        "n_classes_train = y_train.value_counts()\n",
        "sns.barplot(x = n_classes_train.index, y = n_classes_train)"
      ],
      "execution_count": 21,
      "outputs": [
        {
          "output_type": "execute_result",
          "data": {
            "text/plain": [
              "<matplotlib.axes._subplots.AxesSubplot at 0x7fc3df55bf90>"
            ]
          },
          "metadata": {
            "tags": []
          },
          "execution_count": 21
        },
        {
          "output_type": "display_data",
          "data": {
            "image/png": "[encoded data removed]",
            "text/plain": [
              "<Figure size 792x504 with 1 Axes>"
            ]
          },
          "metadata": {
            "tags": []
          }
        }
      ]
    },
    {
      "cell_type": "code",
      "metadata": {
        "id": "za9L_Kj-pzr1"
      },
      "source": [
        "# Convierto de pd.Dataframe -> np.ndarray\n",
        "x_train, x_test, y_train, y_test = x_train.to_numpy(), x_test.to_numpy(), y_train.to_numpy(), y_test.to_numpy()"
      ],
      "execution_count": 22,
      "outputs": []
    },
    {
      "cell_type": "markdown",
      "metadata": {
        "id": "HpBPtS28ovqg"
      },
      "source": [
        "## Selección de Modelos\n",
        "\n",
        "Pruebo dos modelos: uno más tradicional/simple (**KNN**) y luego una **Red Neuronal**. El segundo\n",
        "\n",
        "requiere probar con más hiperparámetros, a diferencia del primero que solo requiere cambiar el parametro k.\n",
        "\n",
        "\n",
        "Luego comparo resultado y valido los dos métodos."
      ]
    },
    {
      "cell_type": "markdown",
      "metadata": {
        "id": "qIE3Wwvp3kqT"
      },
      "source": [
        "## KNN"
      ]
    },
    {
      "cell_type": "code",
      "metadata": {
        "id": "Ia-AuvhSQx_K"
      },
      "source": [
        "# Es lo mismo que sklearn.metrics.accuracy_score. La diferencia es\n",
        "# que de esta forma la función permite datos de tipo torch.Tensor\n",
        "def accuracy(y_hat: Union[torch.Tensor, np.ndarray],\n",
        "             y_true: Union[torch.Tensor, np.ndarray],\n",
        "             promediar: bool = True) -> float:\n",
        "  cant_correctos = (y_hat == y_true).sum()\n",
        "  if isinstance(y_hat, torch.Tensor) and isinstance(y_true, torch.Tensor):\n",
        "    return cant_correctos.item() / y_hat.numel() if promediar else cant_correctos.item()\n",
        "  elif isinstance(y_hat, np.ndarray) and isinstance(y_true, np.ndarray):\n",
        "    return cant_correctos / y_hat.size if promediar else cant_correctos\n",
        "  else:\n",
        "    raise ValueError(\n",
        "        f'Inputs tienen que ser torch.Tensor o np.ndarray, se encontro {type(y_hat)}'\n",
        "        )"
      ],
      "execution_count": 23,
      "outputs": []
    },
    {
      "cell_type": "code",
      "metadata": {
        "id": "KnpiJPED5nOo"
      },
      "source": [
        "# Verifico la función accuracy\n",
        "\n",
        "# PyTorch\n",
        "y_hat_pt = torch.tensor([4.0, 3.0], dtype=torch.float32)\n",
        "y_pt = torch.tensor([4.0, 2.0], dtype=torch.float32)\n",
        "\n",
        "assert accuracy(y_hat_pt, y_pt) == 0.5\n",
        "assert accuracy(y_hat_pt, y_pt, promediar=False) == 1\n",
        "# Numpy\n",
        "y_hat_np = np.array([4.0, 3.0], dtype=np.float32)\n",
        "y_np = np.array([4.0, 2.0], dtype=np.float32)\n",
        "assert accuracy(y_hat_np, y_np) == 0.5\n",
        "assert accuracy(y_hat_np, y_np, promediar=False) == 1"
      ],
      "execution_count": 24,
      "outputs": []
    },
    {
      "cell_type": "code",
      "metadata": {
        "id": "7RtcGLH0wmS6"
      },
      "source": [
        "# Calculo el accuracy de test para `k` entre [1, 11]\n",
        "k_accuracy = [accuracy_score(\n",
        "    KNeighborsClassifier(n_neighbors=k, algorithm='brute', metric='euclidean').fit(x_train, y_train).predict(x_test),\n",
        "    y_test) for k in range(1, 12, 2)]"
      ],
      "execution_count": 25,
      "outputs": []
    },
    {
      "cell_type": "code",
      "metadata": {
        "colab": {
          "base_uri": "https://localhost:8080/",
          "height": 435
        },
        "id": "r4MernEM0l2p",
        "outputId": "b6dc03d9-94b6-4b4a-a22d-0ed788d30984"
      },
      "source": [
        "# Observo que valor de `k` da la mejor accuracy\n",
        "x = np.arange(1, 12, 2)\n",
        "ax = sns.lineplot(x=x, y=k_accuracy, marker='o')\n",
        "ax.set(xticks=x)\n",
        "plt.show()"
      ],
      "execution_count": 26,
      "outputs": [
        {
          "output_type": "display_data",
          "data": {
            "image/png": "[encoded data removed]",
            "text/plain": [
              "<Figure size 792x504 with 1 Axes>"
            ]
          },
          "metadata": {
            "tags": []
          }
        }
      ]
    },
    {
      "cell_type": "code",
      "metadata": {
        "id": "MsOFA4Fj3hF5"
      },
      "source": [
        "# Como el dataset es chico no hay problema en usar\n",
        "# el algoritmo brute que simeplemente compara una nueva\n",
        "# entrada con todos los puntos ya existentes. Para medir\n",
        "# la distancia usamos la distancia euclidiana: sqrt(sum((x - y)^2))\n",
        "neighbors = KNeighborsClassifier(n_neighbors=5, algorithm='brute',\n",
        "                             metric='euclidean').fit(x_train, y_train)"
      ],
      "execution_count": 27,
      "outputs": []
    },
    {
      "cell_type": "code",
      "metadata": {
        "colab": {
          "base_uri": "https://localhost:8080/"
        },
        "id": "8UxLpfV69aNz",
        "outputId": "4d2ce70e-50bb-440a-be69-4a580881605f"
      },
      "source": [
        "# Vemos que tan bien se ajusta a los datos de entrenamiento\n",
        "y_hat = neighbors.predict(x_train)\n",
        "accuracy(y_hat, y_train)"
      ],
      "execution_count": 28,
      "outputs": [
        {
          "output_type": "execute_result",
          "data": {
            "text/plain": [
              "0.9619047619047619"
            ]
          },
          "metadata": {
            "tags": []
          },
          "execution_count": 28
        }
      ]
    },
    {
      "cell_type": "code",
      "metadata": {
        "colab": {
          "base_uri": "https://localhost:8080/",
          "height": 453
        },
        "id": "s1EYa-tfyWHc",
        "outputId": "12cb5790-46d4-4ee4-8ffe-385e8d08b442"
      },
      "source": [
        "# Ploteamos una matriz de confusión\n",
        "cm_train = confusion_matrix(y_train, y_hat)\n",
        "sns.set(font_scale=1.4) # for label size\n",
        "sns.heatmap(cm_train, annot=True, annot_kws={\"size\": 16}) # font size"
      ],
      "execution_count": 29,
      "outputs": [
        {
          "output_type": "execute_result",
          "data": {
            "text/plain": [
              "<matplotlib.axes._subplots.AxesSubplot at 0x7fc3df26efd0>"
            ]
          },
          "metadata": {
            "tags": []
          },
          "execution_count": 29
        },
        {
          "output_type": "display_data",
          "data": {
            "image/png": "[encoded data removed]",
            "text/plain": [
              "<Figure size 792x504 with 2 Axes>"
            ]
          },
          "metadata": {
            "tags": []
          }
        }
      ]
    },
    {
      "cell_type": "code",
      "metadata": {
        "colab": {
          "base_uri": "https://localhost:8080/"
        },
        "id": "VI3juru_qGM7",
        "outputId": "b3a8e927-0011-42dc-aafe-004f2fb56fc3"
      },
      "source": [
        "# Vemos que tan bien generaliza\n",
        "y_hat_test = neighbors.predict(x_test)\n",
        "accuracy(y_hat_test, y_test)"
      ],
      "execution_count": 30,
      "outputs": [
        {
          "output_type": "execute_result",
          "data": {
            "text/plain": [
              "0.9777777777777777"
            ]
          },
          "metadata": {
            "tags": []
          },
          "execution_count": 30
        }
      ]
    },
    {
      "cell_type": "code",
      "metadata": {
        "colab": {
          "base_uri": "https://localhost:8080/",
          "height": 459
        },
        "id": "8UYRVUoVs34o",
        "outputId": "2e775034-6b3c-48f0-bbd1-3e43d3719db3"
      },
      "source": [
        "# Matriz de confusión para el test set\n",
        "cm_test = confusion_matrix(y_test, y_hat_test)\n",
        "sns.heatmap(cm_test, annot=True, annot_kws={\"size\": 16}) # font size"
      ],
      "execution_count": 31,
      "outputs": [
        {
          "output_type": "execute_result",
          "data": {
            "text/plain": [
              "<matplotlib.axes._subplots.AxesSubplot at 0x7fc3df1c2350>"
            ]
          },
          "metadata": {
            "tags": []
          },
          "execution_count": 31
        },
        {
          "output_type": "display_data",
          "data": {
            "image/png": "[encoded data removed]",
            "text/plain": [
              "<Figure size 792x504 with 2 Axes>"
            ]
          },
          "metadata": {
            "tags": []
          }
        }
      ]
    },
    {
      "cell_type": "markdown",
      "metadata": {
        "id": "4s06W1wA3iV5"
      },
      "source": [
        "## Neural Net."
      ]
    },
    {
      "cell_type": "markdown",
      "metadata": {
        "id": "q7zfhywZKUs0"
      },
      "source": [
        "### Arquitectura del modelo"
      ]
    },
    {
      "cell_type": "code",
      "metadata": {
        "id": "KzDVymVu3hHb"
      },
      "source": [
        "'''\n",
        "Construye un Red Neuronal (Multi Layer Perceptron) en base a la lista layers.\n",
        "El primer elemento de la lista siempre es el número features/datos de entrada\n",
        "mientras que el último representa la cantidad de datos de salida. En este caso\n",
        "el último siempre seria 3, por las clases: Setosa, Versicolor, Virginica.\n",
        "\n",
        "Por ejemplo:\n",
        "fc = FullyConnected(layers=[4, 32, 16, 32, 3])\n",
        "Representa 4 features, 3 hidden-layers de {32, 16, 32} neuronas respectivamente\n",
        "y 3 neuronas de salida. Por defecto no hay BatchNorm y Dropout.\n",
        "\n",
        "Reciclado de mi otro repo:\n",
        "https://github.com/ankandrew/DeepSudoku/blob/899bde9108974fafa610747069a920d26b5c6f75/deep_sudoku/model/block.py#L38\n",
        "'''\n",
        "class FullyConnected(nn.Module):\n",
        "    def __init__(self,\n",
        "                 layers: List,\n",
        "                 batch_norm: bool = False,\n",
        "                 dropout_rate: float = None,\n",
        "                 activation: bool = True):\n",
        "        super(FullyConnected, self).__init__()\n",
        "        self.layers = layers\n",
        "        self.batch_norm = batch_norm\n",
        "        self.activation = activation\n",
        "        self.dropout_rate = dropout_rate\n",
        "        self.fc = self.__make_fc()\n",
        "\n",
        "    def forward(self, x):\n",
        "        return self.fc(x)\n",
        "\n",
        "    def __make_fc(self):\n",
        "        layers = []\n",
        "        penult_layer_i = len(self.layers) - 1\n",
        "        for i in range(penult_layer_i):\n",
        "            # Layers normales (tienen activación)\n",
        "            if i < penult_layer_i - 1:\n",
        "                # Batch norm ya incluye un termino bias entonces no hace\n",
        "                # falta que nn.Linear lo incluya.\n",
        "                layers.append(nn.Linear(self.layers[i], self.layers[i + 1],\n",
        "                                        bias=not self.batch_norm))\n",
        "                if self.batch_norm:\n",
        "                    layers.append(nn.BatchNorm1d(self.layers[i + 1]))\n",
        "                if self.activation:\n",
        "                    layers.append(nn.ReLU())\n",
        "                if self.dropout_rate:\n",
        "                    layers.append(nn.Dropout(self.dropout_rate))\n",
        "            # Para el último caso outputeamos los logits\n",
        "            # (la combinación lineal sin función de activación)\n",
        "            else:\n",
        "                layers.append(nn.Linear(self.layers[i], self.layers[i + 1]))\n",
        "        return nn.Sequential(*layers)"
      ],
      "execution_count": 32,
      "outputs": []
    },
    {
      "cell_type": "markdown",
      "metadata": {
        "id": "eiZDCFYWKzbj"
      },
      "source": [
        "### Hiperparámetros"
      ]
    },
    {
      "cell_type": "code",
      "metadata": {
        "id": "42VebhVzKzjL"
      },
      "source": [
        "EPOCHS = 100\n",
        "BATCH_SIZE = 16\n",
        "LR = 0.01\n",
        "DROP_OUT = False\n",
        "BATCH_NORM = False\n",
        "LAYERS = [4, 6, 6, 3]\n",
        "DEVICE = 'cuda' if torch.cuda.is_available() else 'cpu'"
      ],
      "execution_count": 33,
      "outputs": []
    },
    {
      "cell_type": "markdown",
      "metadata": {
        "id": "_dt6iP47G0DQ"
      },
      "source": [
        "### Preparación de datos para PyTorch"
      ]
    },
    {
      "cell_type": "code",
      "metadata": {
        "id": "jHbL7-tVD24F"
      },
      "source": [
        "# Convierto de np.ndarray -> torch.Tensor\n",
        "# Lo muevo a la cpu/gpu según el dispositivo elegido\n",
        "x_train_tensor = torch.from_numpy(x_train).to(DEVICE)\n",
        "y_train_tensor = torch.from_numpy(y_train).long().to(DEVICE)\n",
        "x_test_tensor = torch.from_numpy(x_test).to(DEVICE)\n",
        "y_test_tensor = torch.from_numpy(y_test).long().to(DEVICE)\n",
        "\n",
        "# Creo un Dataset a partir de Tensores\n",
        "train_dataset = TensorDataset(x_train_tensor, y_train_tensor)\n",
        "test_dataset = TensorDataset(x_test_tensor, y_test_tensor)\n",
        "# Creamos los loaders de train/test\n",
        "train_loader = DataLoader(train_dataset, batch_size=BATCH_SIZE, shuffle=True)\n",
        "test_loader = DataLoader(test_dataset, batch_size=BATCH_SIZE, shuffle=False)"
      ],
      "execution_count": 34,
      "outputs": []
    },
    {
      "cell_type": "markdown",
      "metadata": {
        "id": "wXyDGTwGKpWP"
      },
      "source": [
        "### Entrenamiento"
      ]
    },
    {
      "cell_type": "code",
      "metadata": {
        "id": "_nI8akCMKo6B"
      },
      "source": [
        "# Instancio el modelo\n",
        "model = FullyConnected(LAYERS, batch_norm=BATCH_NORM, dropout_rate=DROP_OUT).to(DEVICE)\n",
        "# Optimizador\n",
        "optimizer = torch.optim.SGD(model.parameters(), lr=LR, momentum=0.9)\n",
        "# Función de coste, incluye: LogSoftmax + NLLLoss\n",
        "# Por eso la predicción son logits (sin función de activación)\n",
        "# y el ground truth se espera que este en el rango [0, número_clases-1]\n",
        "loss = nn.CrossEntropyLoss()"
      ],
      "execution_count": 35,
      "outputs": []
    },
    {
      "cell_type": "code",
      "metadata": {
        "id": "knudF8S9KtyC"
      },
      "source": [
        "def train_loop(model, train_loader, loss_fn, optimizer, device):\n",
        "    for i, (x, y) in enumerate(train_loader):\n",
        "        pred = model(x)  # Forward pass\n",
        "        output = loss_fn(pred, y)  # Func. coste\n",
        "        optimizer.zero_grad()  # Reseteo los gradientes (se acumulan por defecto)\n",
        "        output.backward()  # Calculo dLoss/dParámetros\n",
        "        optimizer.step()  # Actualizo parámetros\n",
        "        # Cada 4 iteraciones muestro loss (para ver el progreso)\n",
        "        if (i + 1) % 4 == 0:\n",
        "            print(f'Loss {output.item():.5f}')"
      ],
      "execution_count": 36,
      "outputs": []
    },
    {
      "cell_type": "code",
      "metadata": {
        "id": "azfE8AHUKt0P"
      },
      "source": [
        "def test_loop(model, test_loader, loss_fn, device):\n",
        "    model.eval()\n",
        "    test_loss, correct = 0, 0\n",
        "    n_samples = len(test_loader.dataset)\n",
        "    # No calculamos el gradiente para el set de test\n",
        "    with torch.no_grad():\n",
        "        for i, (x, y) in enumerate(test_loader):\n",
        "            pred = model(x)\n",
        "            test_loss += loss_fn(pred, y).item()\n",
        "            _, pred = pred.max(dim=1)\n",
        "            correct += accuracy(y, pred, promediar=False)\n",
        "        test_loss = test_loss / n_samples\n",
        "        test_acc = correct / n_samples\n",
        "        print(f'Test loss {test_loss:.5f}, Test accuracy {test_acc:.5f}')\n",
        "    model.train()\n",
        "    return test_loss, test_acc"
      ],
      "execution_count": 37,
      "outputs": []
    },
    {
      "cell_type": "code",
      "metadata": {
        "id": "ohSrNpQqPtXf",
        "colab": {
          "base_uri": "https://localhost:8080/"
        },
        "outputId": "e68c7fe8-a2e3-408e-f729-f6485a2fb4b5"
      },
      "source": [
        "# Loop de train/test\n",
        "import copy\n",
        "\n",
        "loss_history = []\n",
        "acc_history = []\n",
        "best_acc = 0.0\n",
        "best_model = None\n",
        "for epoch in range(EPOCHS):\n",
        "    print(f'Epoch {epoch+1}\\n{\"-\"*30}')\n",
        "    train_loop(model, train_loader, loss, optimizer, DEVICE)\n",
        "    test_loss, test_acc = test_loop(model, test_loader, loss, DEVICE)\n",
        "    if test_acc > best_acc:\n",
        "      best_acc = test_acc\n",
        "      best_model = copy.deepcopy(model)\n",
        "    loss_history.append(test_loss)\n",
        "    acc_history.append(test_acc)"
      ],
      "execution_count": 38,
      "outputs": [
        {
          "output_type": "stream",
          "text": [
            "Epoch 1\n",
            "------------------------------\n",
            "Loss 1.15326\n",
            "Test loss 0.07328, Test accuracy 0.40000\n",
            "Epoch 2\n",
            "------------------------------\n",
            "Loss 1.12628\n",
            "Test loss 0.07295, Test accuracy 0.40000\n",
            "Epoch 3\n",
            "------------------------------\n",
            "Loss 1.08222\n",
            "Test loss 0.07275, Test accuracy 0.40000\n",
            "Epoch 4\n",
            "------------------------------\n",
            "Loss 1.09381\n",
            "Test loss 0.07276, Test accuracy 0.31111\n",
            "Epoch 5\n",
            "------------------------------\n",
            "Loss 1.11404\n",
            "Test loss 0.07275, Test accuracy 0.31111\n",
            "Epoch 6\n",
            "------------------------------\n",
            "Loss 1.09332\n",
            "Test loss 0.07279, Test accuracy 0.31111\n",
            "Epoch 7\n",
            "------------------------------\n",
            "Loss 1.08556\n",
            "Test loss 0.07271, Test accuracy 0.31111\n",
            "Epoch 8\n",
            "------------------------------\n",
            "Loss 1.09258\n",
            "Test loss 0.07273, Test accuracy 0.60000\n",
            "Epoch 9\n",
            "------------------------------\n",
            "Loss 1.05673\n",
            "Test loss 0.07251, Test accuracy 0.57778\n",
            "Epoch 10\n",
            "------------------------------\n",
            "Loss 1.09630\n",
            "Test loss 0.07229, Test accuracy 0.60000\n",
            "Epoch 11\n",
            "------------------------------\n",
            "Loss 1.07850\n",
            "Test loss 0.07170, Test accuracy 0.57778\n",
            "Epoch 12\n",
            "------------------------------\n",
            "Loss 1.05913\n",
            "Test loss 0.07107, Test accuracy 0.60000\n",
            "Epoch 13\n",
            "------------------------------\n",
            "Loss 1.04626\n",
            "Test loss 0.07043, Test accuracy 0.60000\n",
            "Epoch 14\n",
            "------------------------------\n",
            "Loss 1.06893\n",
            "Test loss 0.06962, Test accuracy 0.60000\n",
            "Epoch 15\n",
            "------------------------------\n",
            "Loss 1.02431\n",
            "Test loss 0.06855, Test accuracy 0.60000\n",
            "Epoch 16\n",
            "------------------------------\n",
            "Loss 1.00553\n",
            "Test loss 0.06729, Test accuracy 0.60000\n",
            "Epoch 17\n",
            "------------------------------\n",
            "Loss 1.01102\n",
            "Test loss 0.06574, Test accuracy 0.60000\n",
            "Epoch 18\n",
            "------------------------------\n",
            "Loss 0.97251\n",
            "Test loss 0.06394, Test accuracy 0.60000\n",
            "Epoch 19\n",
            "------------------------------\n",
            "Loss 0.92960\n",
            "Test loss 0.06171, Test accuracy 0.60000\n",
            "Epoch 20\n",
            "------------------------------\n",
            "Loss 0.92786\n",
            "Test loss 0.05894, Test accuracy 0.60000\n",
            "Epoch 21\n",
            "------------------------------\n",
            "Loss 0.81014\n",
            "Test loss 0.05598, Test accuracy 0.60000\n",
            "Epoch 22\n",
            "------------------------------\n",
            "Loss 0.84393\n",
            "Test loss 0.05292, Test accuracy 0.60000\n",
            "Epoch 23\n",
            "------------------------------\n",
            "Loss 0.69895\n",
            "Test loss 0.04945, Test accuracy 0.60000\n",
            "Epoch 24\n",
            "------------------------------\n",
            "Loss 0.66909\n",
            "Test loss 0.04618, Test accuracy 0.60000\n",
            "Epoch 25\n",
            "------------------------------\n",
            "Loss 0.63666\n",
            "Test loss 0.04320, Test accuracy 0.60000\n",
            "Epoch 26\n",
            "------------------------------\n",
            "Loss 0.55010\n",
            "Test loss 0.04021, Test accuracy 0.62222\n",
            "Epoch 27\n",
            "------------------------------\n",
            "Loss 0.52297\n",
            "Test loss 0.03771, Test accuracy 0.62222\n",
            "Epoch 28\n",
            "------------------------------\n",
            "Loss 0.49589\n",
            "Test loss 0.03570, Test accuracy 0.66667\n",
            "Epoch 29\n",
            "------------------------------\n",
            "Loss 0.54501\n",
            "Test loss 0.03317, Test accuracy 0.84444\n",
            "Epoch 30\n",
            "------------------------------\n",
            "Loss 0.48956\n",
            "Test loss 0.03085, Test accuracy 0.95556\n",
            "Epoch 31\n",
            "------------------------------\n",
            "Loss 0.46103\n",
            "Test loss 0.02995, Test accuracy 0.82222\n",
            "Epoch 32\n",
            "------------------------------\n",
            "Loss 0.36749\n",
            "Test loss 0.02807, Test accuracy 0.86667\n",
            "Epoch 33\n",
            "------------------------------\n",
            "Loss 0.54436\n",
            "Test loss 0.02621, Test accuracy 0.95556\n",
            "Epoch 34\n",
            "------------------------------\n",
            "Loss 0.34869\n",
            "Test loss 0.02494, Test accuracy 0.93333\n",
            "Epoch 35\n",
            "------------------------------\n",
            "Loss 0.41533\n",
            "Test loss 0.02341, Test accuracy 0.97778\n",
            "Epoch 36\n",
            "------------------------------\n",
            "Loss 0.19081\n",
            "Test loss 0.02204, Test accuracy 0.95556\n",
            "Epoch 37\n",
            "------------------------------\n",
            "Loss 0.38814\n",
            "Test loss 0.02096, Test accuracy 0.97778\n",
            "Epoch 38\n",
            "------------------------------\n",
            "Loss 0.21723\n",
            "Test loss 0.01955, Test accuracy 0.95556\n",
            "Epoch 39\n",
            "------------------------------\n",
            "Loss 0.30805\n",
            "Test loss 0.01870, Test accuracy 0.97778\n",
            "Epoch 40\n",
            "------------------------------\n",
            "Loss 0.27285\n",
            "Test loss 0.01745, Test accuracy 0.97778\n",
            "Epoch 41\n",
            "------------------------------\n",
            "Loss 0.37187\n",
            "Test loss 0.01684, Test accuracy 0.93333\n",
            "Epoch 42\n",
            "------------------------------\n",
            "Loss 0.27011\n",
            "Test loss 0.01583, Test accuracy 0.97778\n",
            "Epoch 43\n",
            "------------------------------\n",
            "Loss 0.38216\n",
            "Test loss 0.01466, Test accuracy 0.97778\n",
            "Epoch 44\n",
            "------------------------------\n",
            "Loss 0.24879\n",
            "Test loss 0.01393, Test accuracy 0.95556\n",
            "Epoch 45\n",
            "------------------------------\n",
            "Loss 0.21537\n",
            "Test loss 0.01419, Test accuracy 0.95556\n",
            "Epoch 46\n",
            "------------------------------\n",
            "Loss 0.12321\n",
            "Test loss 0.01342, Test accuracy 0.95556\n",
            "Epoch 47\n",
            "------------------------------\n",
            "Loss 0.23283\n",
            "Test loss 0.01232, Test accuracy 0.97778\n",
            "Epoch 48\n",
            "------------------------------\n",
            "Loss 0.19112\n",
            "Test loss 0.01159, Test accuracy 0.95556\n",
            "Epoch 49\n",
            "------------------------------\n",
            "Loss 0.19476\n",
            "Test loss 0.01091, Test accuracy 0.95556\n",
            "Epoch 50\n",
            "------------------------------\n",
            "Loss 0.14602\n",
            "Test loss 0.01030, Test accuracy 0.97778\n",
            "Epoch 51\n",
            "------------------------------\n",
            "Loss 0.13334\n",
            "Test loss 0.00999, Test accuracy 0.95556\n",
            "Epoch 52\n",
            "------------------------------\n",
            "Loss 0.22707\n",
            "Test loss 0.00943, Test accuracy 0.95556\n",
            "Epoch 53\n",
            "------------------------------\n",
            "Loss 0.10938\n",
            "Test loss 0.00926, Test accuracy 0.95556\n",
            "Epoch 54\n",
            "------------------------------\n",
            "Loss 0.24543\n",
            "Test loss 0.00866, Test accuracy 0.95556\n",
            "Epoch 55\n",
            "------------------------------\n",
            "Loss 0.10253\n",
            "Test loss 0.00842, Test accuracy 0.97778\n",
            "Epoch 56\n",
            "------------------------------\n",
            "Loss 0.12933\n",
            "Test loss 0.00917, Test accuracy 0.95556\n",
            "Epoch 57\n",
            "------------------------------\n",
            "Loss 0.05925\n",
            "Test loss 0.00810, Test accuracy 0.97778\n",
            "Epoch 58\n",
            "------------------------------\n",
            "Loss 0.10274\n",
            "Test loss 0.00795, Test accuracy 0.95556\n",
            "Epoch 59\n",
            "------------------------------\n",
            "Loss 0.09740\n",
            "Test loss 0.00735, Test accuracy 0.97778\n",
            "Epoch 60\n",
            "------------------------------\n",
            "Loss 0.06274\n",
            "Test loss 0.00717, Test accuracy 0.95556\n",
            "Epoch 61\n",
            "------------------------------\n",
            "Loss 0.13228\n",
            "Test loss 0.00694, Test accuracy 0.95556\n",
            "Epoch 62\n",
            "------------------------------\n",
            "Loss 0.14308\n",
            "Test loss 0.00666, Test accuracy 0.97778\n",
            "Epoch 63\n",
            "------------------------------\n",
            "Loss 0.12386\n",
            "Test loss 0.00655, Test accuracy 0.95556\n",
            "Epoch 64\n",
            "------------------------------\n",
            "Loss 0.18735\n",
            "Test loss 0.00626, Test accuracy 0.97778\n",
            "Epoch 65\n",
            "------------------------------\n",
            "Loss 0.02923\n",
            "Test loss 0.00617, Test accuracy 0.97778\n",
            "Epoch 66\n",
            "------------------------------\n",
            "Loss 0.07294\n",
            "Test loss 0.00599, Test accuracy 0.97778\n",
            "Epoch 67\n",
            "------------------------------\n",
            "Loss 0.19763\n",
            "Test loss 0.00582, Test accuracy 0.97778\n",
            "Epoch 68\n",
            "------------------------------\n",
            "Loss 0.07997\n",
            "Test loss 0.00568, Test accuracy 0.97778\n",
            "Epoch 69\n",
            "------------------------------\n",
            "Loss 0.06693\n",
            "Test loss 0.00557, Test accuracy 0.97778\n",
            "Epoch 70\n",
            "------------------------------\n",
            "Loss 0.03220\n",
            "Test loss 0.00545, Test accuracy 0.97778\n",
            "Epoch 71\n",
            "------------------------------\n",
            "Loss 0.01800\n",
            "Test loss 0.00597, Test accuracy 0.97778\n",
            "Epoch 72\n",
            "------------------------------\n",
            "Loss 0.01845\n",
            "Test loss 0.00528, Test accuracy 0.97778\n",
            "Epoch 73\n",
            "------------------------------\n",
            "Loss 0.08477\n",
            "Test loss 0.00551, Test accuracy 0.97778\n",
            "Epoch 74\n",
            "------------------------------\n",
            "Loss 0.06319\n",
            "Test loss 0.00506, Test accuracy 0.97778\n",
            "Epoch 75\n",
            "------------------------------\n",
            "Loss 0.01921\n",
            "Test loss 0.00500, Test accuracy 0.97778\n",
            "Epoch 76\n",
            "------------------------------\n",
            "Loss 0.01545\n",
            "Test loss 0.00516, Test accuracy 0.97778\n",
            "Epoch 77\n",
            "------------------------------\n",
            "Loss 0.10397\n",
            "Test loss 0.00492, Test accuracy 0.95556\n",
            "Epoch 78\n",
            "------------------------------\n",
            "Loss 0.01471\n",
            "Test loss 0.00490, Test accuracy 0.95556\n",
            "Epoch 79\n",
            "------------------------------\n",
            "Loss 0.02141\n",
            "Test loss 0.00534, Test accuracy 0.97778\n",
            "Epoch 80\n",
            "------------------------------\n",
            "Loss 0.01953\n",
            "Test loss 0.00501, Test accuracy 0.95556\n",
            "Epoch 81\n",
            "------------------------------\n",
            "Loss 0.09154\n",
            "Test loss 0.00462, Test accuracy 1.00000\n",
            "Epoch 82\n",
            "------------------------------\n",
            "Loss 0.02480\n",
            "Test loss 0.00501, Test accuracy 0.95556\n",
            "Epoch 83\n",
            "------------------------------\n",
            "Loss 0.15883\n",
            "Test loss 0.00496, Test accuracy 0.97778\n",
            "Epoch 84\n",
            "------------------------------\n",
            "Loss 0.07109\n",
            "Test loss 0.00446, Test accuracy 0.95556\n",
            "Epoch 85\n",
            "------------------------------\n",
            "Loss 0.02518\n",
            "Test loss 0.00451, Test accuracy 0.95556\n",
            "Epoch 86\n",
            "------------------------------\n",
            "Loss 0.14654\n",
            "Test loss 0.00441, Test accuracy 1.00000\n",
            "Epoch 87\n",
            "------------------------------\n",
            "Loss 0.01446\n",
            "Test loss 0.00466, Test accuracy 0.95556\n",
            "Epoch 88\n",
            "------------------------------\n",
            "Loss 0.10713\n",
            "Test loss 0.00428, Test accuracy 1.00000\n",
            "Epoch 89\n",
            "------------------------------\n",
            "Loss 0.17353\n",
            "Test loss 0.00424, Test accuracy 1.00000\n",
            "Epoch 90\n",
            "------------------------------\n",
            "Loss 0.23906\n",
            "Test loss 0.00423, Test accuracy 0.95556\n",
            "Epoch 91\n",
            "------------------------------\n",
            "Loss 0.02039\n",
            "Test loss 0.00424, Test accuracy 1.00000\n",
            "Epoch 92\n",
            "------------------------------\n",
            "Loss 0.12669\n",
            "Test loss 0.00445, Test accuracy 0.95556\n",
            "Epoch 93\n",
            "------------------------------\n",
            "Loss 0.06261\n",
            "Test loss 0.00412, Test accuracy 1.00000\n",
            "Epoch 94\n",
            "------------------------------\n",
            "Loss 0.01953\n",
            "Test loss 0.00415, Test accuracy 0.95556\n",
            "Epoch 95\n",
            "------------------------------\n",
            "Loss 0.08537\n",
            "Test loss 0.00423, Test accuracy 1.00000\n",
            "Epoch 96\n",
            "------------------------------\n",
            "Loss 0.11417\n",
            "Test loss 0.00411, Test accuracy 0.95556\n",
            "Epoch 97\n",
            "------------------------------\n",
            "Loss 0.11578\n",
            "Test loss 0.00401, Test accuracy 0.97778\n",
            "Epoch 98\n",
            "------------------------------\n",
            "Loss 0.17978\n",
            "Test loss 0.00399, Test accuracy 0.97778\n",
            "Epoch 99\n",
            "------------------------------\n",
            "Loss 0.01687\n",
            "Test loss 0.00396, Test accuracy 0.97778\n",
            "Epoch 100\n",
            "------------------------------\n",
            "Loss 0.02086\n",
            "Test loss 0.00400, Test accuracy 0.97778\n"
          ],
          "name": "stdout"
        }
      ]
    },
    {
      "cell_type": "code",
      "metadata": {
        "id": "BiMvPIO8PqEE",
        "colab": {
          "base_uri": "https://localhost:8080/",
          "height": 453
        },
        "outputId": "b32dfa78-5036-449e-e411-b313ea1a7708"
      },
      "source": [
        "# Grafico el resultado del entrenamiento (en términos del test set)\n",
        "metrics_history = pd.DataFrame(data = np.array([loss_history, acc_history]).T, \n",
        "                  index = np.arange(len(loss_history)), \n",
        "                  columns = ['loss', 'accuracy'])\n",
        "\n",
        "sns.lineplot(data=metrics_history)"
      ],
      "execution_count": 39,
      "outputs": [
        {
          "output_type": "execute_result",
          "data": {
            "text/plain": [
              "<matplotlib.axes._subplots.AxesSubplot at 0x7fc3df099810>"
            ]
          },
          "metadata": {
            "tags": []
          },
          "execution_count": 39
        },
        {
          "output_type": "display_data",
          "data": {
            "image/png": "[encoded data removed]",
            "text/plain": [
              "<Figure size 792x504 with 1 Axes>"
            ]
          },
          "metadata": {
            "tags": []
          }
        }
      ]
    },
    {
      "cell_type": "code",
      "metadata": {
        "colab": {
          "base_uri": "https://localhost:8080/",
          "height": 459
        },
        "id": "rleiO6qf_LS6",
        "outputId": "875961a8-f018-49da-b418-a4527f6bb690"
      },
      "source": [
        "y_hat_test = best_model(x_test_tensor).argmax(dim=1).cpu().numpy()\n",
        "# Matriz de confusión para el test set\n",
        "cm_test_nn = confusion_matrix(y_test_tensor.cpu().numpy(), y_hat_test)\n",
        "sns.heatmap(cm_test_nn, annot=True, annot_kws={\"size\": 16}) # font size"
      ],
      "execution_count": 40,
      "outputs": [
        {
          "output_type": "execute_result",
          "data": {
            "text/plain": [
              "<matplotlib.axes._subplots.AxesSubplot at 0x7fc3d670fdd0>"
            ]
          },
          "metadata": {
            "tags": []
          },
          "execution_count": 40
        },
        {
          "output_type": "display_data",
          "data": {
            "image/png": "[encoded data removed]",
            "text/plain": [
              "<Figure size 792x504 with 2 Axes>"
            ]
          },
          "metadata": {
            "tags": []
          }
        }
      ]
    },
    {
      "cell_type": "markdown",
      "metadata": {
        "id": "GcJGw9cxoyHz"
      },
      "source": [
        "## Conclusiones"
      ]
    },
    {
      "cell_type": "markdown",
      "metadata": {
        "id": "fZkmGsQP9BtY"
      },
      "source": [
        "Realizamos un modelo más simple que llegó a **97.7%** de accuracy en el test-set (**KNN**) y por otro lado una **Red Neuronal** chica con dos hidden-layers de 6 neuronas, que llegó al **100%** de accuracy. En síntesis, ambos modelos logran una muy buena precisión para este dataset en particular."
      ]
    }
  ]
}